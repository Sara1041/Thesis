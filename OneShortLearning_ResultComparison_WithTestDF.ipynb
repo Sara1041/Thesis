{
  "cells": [
    {
      "cell_type": "markdown",
      "metadata": {
        "id": "view-in-github",
        "colab_type": "text"
      },
      "source": [
        "<a href=\"https://colab.research.google.com/github/Sara1041/Thesis/blob/main/OneShortLearning_ResultComparison_WithTestDF.ipynb\" target=\"_parent\"><img src=\"https://colab.research.google.com/assets/colab-badge.svg\" alt=\"Open In Colab\"/></a>"
      ]
    },
    {
      "cell_type": "code",
      "execution_count": null,
      "metadata": {
        "id": "GzPJ7uvwXS9I",
        "outputId": "5b8d75f5-49c9-4a85-ef36-15d9805aa110"
      },
      "outputs": [
        {
          "name": "stdout",
          "output_type": "stream",
          "text": [
            "Note: you may need to restart the kernel to use updated packages.\n"
          ]
        }
      ],
      "source": [
        "%pip install opencv-python &> /dev/null\n",
        "!apt update &> /dev/null\n",
        "!apt install ffmpeg libsm6 libxext6  -y &> /dev/null"
      ]
    },
    {
      "cell_type": "code",
      "execution_count": null,
      "metadata": {
        "id": "bzucAfOuXS9L",
        "outputId": "1de8b733-ff2f-4a21-e7e8-34ec5ad4a22c"
      },
      "outputs": [
        {
          "name": "stderr",
          "output_type": "stream",
          "text": [
            "2023-01-09 11:08:51.239483: I tensorflow/core/platform/cpu_feature_guard.cc:194] This TensorFlow binary is optimized with oneAPI Deep Neural Network Library (oneDNN) to use the following CPU instructions in performance-critical operations:  SSE3 SSE4.1 SSE4.2 AVX\n",
            "To enable them in other operations, rebuild TensorFlow with the appropriate compiler flags.\n"
          ]
        }
      ],
      "source": [
        "import tensorflow as tf\n",
        "import numpy as np\n",
        "import os\n",
        "from numpy import genfromtxt\n",
        "import cv2\n",
        "from tensorflow.keras.layers import BatchNormalization\n",
        "from tensorflow.keras import backend as K\n",
        "from tensorflow.keras.layers import *\n",
        "from tensorflow.keras.models import Model\n",
        "from sklearn.preprocessing import normalize\n",
        "K.set_image_data_format('channels_first')\n",
        "import random\n",
        "import matplotlib.pyplot as plt\n",
        "import tensorflow.keras\n",
        "from tensorflow.keras.utils import plot_model\n",
        "import sys\n",
        "import pandas as pd\n",
        "import glob"
      ]
    },
    {
      "cell_type": "code",
      "execution_count": null,
      "metadata": {
        "id": "N85ZpyuSXS9M",
        "outputId": "5ba0515f-fc4d-4659-ca85-7fde563ca636"
      },
      "outputs": [
        {
          "name": "stderr",
          "output_type": "stream",
          "text": [
            "2023-01-09 11:08:53.843939: I tensorflow/stream_executor/cuda/cuda_gpu_executor.cc:996] successful NUMA node read from SysFS had negative value (-1), but there must be at least one NUMA node, so returning NUMA node zero\n",
            "2023-01-09 11:08:53.849310: I tensorflow/stream_executor/cuda/cuda_gpu_executor.cc:996] successful NUMA node read from SysFS had negative value (-1), but there must be at least one NUMA node, so returning NUMA node zero\n",
            "2023-01-09 11:08:53.849511: I tensorflow/stream_executor/cuda/cuda_gpu_executor.cc:996] successful NUMA node read from SysFS had negative value (-1), but there must be at least one NUMA node, so returning NUMA node zero\n"
          ]
        }
      ],
      "source": [
        "gpus = tf.config.experimental.list_physical_devices('GPU')\n",
        "for gpu in gpus:\n",
        "    tf.config.experimental.set_memory_growth(gpu, True)"
      ]
    },
    {
      "cell_type": "code",
      "execution_count": null,
      "metadata": {
        "id": "PQ-WDQkTXS9N"
      },
      "outputs": [],
      "source": [
        "def triplet_loss_t(y_true,y_pred):\n",
        "    anchor=y_pred[:,0:128]\n",
        "    pos=y_pred[:,128:256]\n",
        "    neg=y_pred[:,256:384]\n",
        "    positive_distance = K.sum(K.abs(anchor-pos), axis=1)\n",
        "    negative_distance = K.sum(K.abs(anchor-neg), axis=1)\n",
        "    probs=K.softmax([positive_distance,negative_distance],axis=0)\n",
        "    loss=K.mean(K.abs(probs[0])+K.abs(1.0-probs[1]))\n",
        "    return loss"
      ]
    },
    {
      "cell_type": "code",
      "execution_count": null,
      "metadata": {
        "id": "dWK8qRLcXS9O",
        "outputId": "d1d222cf-8f16-464a-87b2-eb030b4430db"
      },
      "outputs": [
        {
          "name": "stderr",
          "output_type": "stream",
          "text": [
            "2023-01-09 11:08:54.220022: I tensorflow/core/platform/cpu_feature_guard.cc:194] This TensorFlow binary is optimized with oneAPI Deep Neural Network Library (oneDNN) to use the following CPU instructions in performance-critical operations:  SSE3 SSE4.1 SSE4.2 AVX\n",
            "To enable them in other operations, rebuild TensorFlow with the appropriate compiler flags.\n",
            "2023-01-09 11:08:54.220587: I tensorflow/stream_executor/cuda/cuda_gpu_executor.cc:996] successful NUMA node read from SysFS had negative value (-1), but there must be at least one NUMA node, so returning NUMA node zero\n",
            "2023-01-09 11:08:54.220998: I tensorflow/stream_executor/cuda/cuda_gpu_executor.cc:996] successful NUMA node read from SysFS had negative value (-1), but there must be at least one NUMA node, so returning NUMA node zero\n",
            "2023-01-09 11:08:54.221237: I tensorflow/stream_executor/cuda/cuda_gpu_executor.cc:996] successful NUMA node read from SysFS had negative value (-1), but there must be at least one NUMA node, so returning NUMA node zero\n",
            "2023-01-09 11:08:54.581250: I tensorflow/stream_executor/cuda/cuda_gpu_executor.cc:996] successful NUMA node read from SysFS had negative value (-1), but there must be at least one NUMA node, so returning NUMA node zero\n",
            "2023-01-09 11:08:54.581435: I tensorflow/stream_executor/cuda/cuda_gpu_executor.cc:996] successful NUMA node read from SysFS had negative value (-1), but there must be at least one NUMA node, so returning NUMA node zero\n",
            "2023-01-09 11:08:54.581595: I tensorflow/stream_executor/cuda/cuda_gpu_executor.cc:996] successful NUMA node read from SysFS had negative value (-1), but there must be at least one NUMA node, so returning NUMA node zero\n",
            "2023-01-09 11:08:54.581714: I tensorflow/core/common_runtime/gpu/gpu_device.cc:1637] Created device /job:localhost/replica:0/task:0/device:GPU:0 with 7231 MB memory:  -> device: 0, name: NVIDIA GeForce RTX 3080, pci bus id: 0000:27:00.0, compute capability: 8.6\n"
          ]
        }
      ],
      "source": [
        "model=tf.keras.models.load_model('triplet_model.h5',custom_objects={'triplet_loss_t':triplet_loss_t})"
      ]
    },
    {
      "cell_type": "code",
      "execution_count": null,
      "metadata": {
        "id": "QsD9My1LXS9O"
      },
      "outputs": [],
      "source": [
        "def image_resizing(image):\n",
        "    image=cv2.resize(image,(96,96))\n",
        "\n",
        "    return image\n",
        "\n",
        "def encode_img(img1,triplet_model):\n",
        "    #img1=cv2.imread(path,1)\n",
        "    img=img1[...,::-1]\n",
        "    img=np.around(np.transpose(img,(2,0,1))/255,decimals=12)\n",
        "    x_train=np.array([img])\n",
        "    emb=triplet_model.layers[3].predict_on_batch(x_train)\n",
        "    return emb\n",
        "\n",
        "threshold=.8\n",
        "interval=0.3\n",
        "def confidence_value(ref_encode,img_encode,thres=threshold):\n",
        "    #diff=np.max(img_encode-ref_encode)\n",
        "    dist=np.linalg.norm((img_encode-ref_encode))\n",
        "    #confidence=(1-K.eval(tf.minimum(dist,1)))\n",
        "    confidence=(threshold-max([dist,interval]))/(threshold-interval)\n",
        "    return dist,confidence"
      ]
    },
    {
      "cell_type": "code",
      "execution_count": null,
      "metadata": {
        "id": "X_Bihr0CXS9P",
        "outputId": "1f1dc039-0178-43d8-b3fe-ba725c0d8ef4"
      },
      "outputs": [
        {
          "data": {
            "text/html": [
              "<div>\n",
              "<style scoped>\n",
              "    .dataframe tbody tr th:only-of-type {\n",
              "        vertical-align: middle;\n",
              "    }\n",
              "\n",
              "    .dataframe tbody tr th {\n",
              "        vertical-align: top;\n",
              "    }\n",
              "\n",
              "    .dataframe thead th {\n",
              "        text-align: right;\n",
              "    }\n",
              "</style>\n",
              "<table border=\"1\" class=\"dataframe\">\n",
              "  <thead>\n",
              "    <tr style=\"text-align: right;\">\n",
              "      <th></th>\n",
              "      <th>ref</th>\n",
              "      <th>new</th>\n",
              "      <th>match</th>\n",
              "    </tr>\n",
              "  </thead>\n",
              "  <tbody>\n",
              "    <tr>\n",
              "      <th>0</th>\n",
              "      <td>test/541/541_script.BMP</td>\n",
              "      <td>test/541/541_CR.BMP</td>\n",
              "      <td>1</td>\n",
              "    </tr>\n",
              "    <tr>\n",
              "      <th>1</th>\n",
              "      <td>test/541/541_script.BMP</td>\n",
              "      <td>test/582/582_CR.BMP</td>\n",
              "      <td>0</td>\n",
              "    </tr>\n",
              "    <tr>\n",
              "      <th>2</th>\n",
              "      <td>test/542/542_script.BMP</td>\n",
              "      <td>test/542/542_Obl.BMP</td>\n",
              "      <td>1</td>\n",
              "    </tr>\n",
              "    <tr>\n",
              "      <th>3</th>\n",
              "      <td>test/542/542_script.BMP</td>\n",
              "      <td>test/584/584_Obl.BMP</td>\n",
              "      <td>0</td>\n",
              "    </tr>\n",
              "    <tr>\n",
              "      <th>4</th>\n",
              "      <td>test/543/543_script.BMP</td>\n",
              "      <td>test/543/543_Obl.BMP</td>\n",
              "      <td>1</td>\n",
              "    </tr>\n",
              "  </tbody>\n",
              "</table>\n",
              "</div>"
            ],
            "text/plain": [
              "                       ref                   new  match\n",
              "0  test/541/541_script.BMP   test/541/541_CR.BMP      1\n",
              "1  test/541/541_script.BMP   test/582/582_CR.BMP      0\n",
              "2  test/542/542_script.BMP  test/542/542_Obl.BMP      1\n",
              "3  test/542/542_script.BMP  test/584/584_Obl.BMP      0\n",
              "4  test/543/543_script.BMP  test/543/543_Obl.BMP      1"
            ]
          },
          "execution_count": 7,
          "metadata": {},
          "output_type": "execute_result"
        }
      ],
      "source": [
        "df = pd.read_csv('test.csv')\n",
        "df.head()"
      ]
    },
    {
      "cell_type": "code",
      "execution_count": null,
      "metadata": {
        "id": "bvaExUCoXS9P",
        "outputId": "d0849f07-e5b5-4d8f-c2ca-1d8c4ae99cde"
      },
      "outputs": [
        {
          "name": "stderr",
          "output_type": "stream",
          "text": [
            "2023-01-09 11:09:00.571472: I tensorflow/stream_executor/cuda/cuda_dnn.cc:424] Loaded cuDNN version 8600\n",
            "2023-01-09 11:09:01.156569: I tensorflow/stream_executor/cuda/cuda_blas.cc:1633] TensorFloat-32 will be used for the matrix multiplication. This will only be logged once.\n"
          ]
        }
      ],
      "source": [
        "y_true = df['match']\n",
        "y_pred = []\n",
        "for index, row in df.iterrows():\n",
        "    rimage=cv2.imread(row[\"ref\"])\n",
        "    image=cv2.imread(row[\"new\"])\n",
        "    rimg=image_resizing(rimage)\n",
        "    img=image_resizing(image)\n",
        "    r_encode=encode_img(rimg,model)\n",
        "    img_encode=encode_img(img,model)\n",
        "    dist,conf=confidence_value(r_encode,img_encode)\n",
        "    if dist < threshold:\n",
        "        y_pred.append(1)\n",
        "    else:\n",
        "        y_pred.append(0)"
      ]
    },
    {
      "cell_type": "code",
      "execution_count": null,
      "metadata": {
        "id": "rqvoUNmsXS9P",
        "outputId": "9b05f5f7-2771-49e9-ca39-76580800bcd5"
      },
      "outputs": [
        {
          "name": "stdout",
          "output_type": "stream",
          "text": [
            "              precision    recall  f1-score   support\n",
            "\n",
            "           0     0.9608    0.8448    0.8991        58\n",
            "           1     0.8657    0.9667    0.9134        60\n",
            "\n",
            "    accuracy                         0.9068       118\n",
            "   macro avg     0.9132    0.9057    0.9062       118\n",
            "weighted avg     0.9124    0.9068    0.9064       118\n",
            "\n"
          ]
        }
      ],
      "source": [
        "from sklearn.metrics import classification_report\n",
        "print(classification_report(y_true, y_pred, digits=4))"
      ]
    },
    {
      "cell_type": "code",
      "execution_count": null,
      "metadata": {
        "id": "5o3u7W84XS9Q"
      },
      "outputs": [],
      "source": []
    }
  ],
  "metadata": {
    "kernelspec": {
      "display_name": "Python 3 (ipykernel)",
      "language": "python",
      "name": "python3"
    },
    "language_info": {
      "codemirror_mode": {
        "name": "ipython",
        "version": 3
      },
      "file_extension": ".py",
      "mimetype": "text/x-python",
      "name": "python",
      "nbconvert_exporter": "python",
      "pygments_lexer": "ipython3",
      "version": "3.8.10"
    },
    "orig_nbformat": 4,
    "colab": {
      "provenance": [],
      "include_colab_link": true
    }
  },
  "nbformat": 4,
  "nbformat_minor": 0
}