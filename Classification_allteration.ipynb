{
  "cells": [
    {
      "cell_type": "markdown",
      "metadata": {
        "id": "view-in-github",
        "colab_type": "text"
      },
      "source": [
        "<a href=\"https://colab.research.google.com/github/Sara1041/Thesis/blob/main/Classification_allteration.ipynb\" target=\"_parent\"><img src=\"https://colab.research.google.com/assets/colab-badge.svg\" alt=\"Open In Colab\"/></a>"
      ]
    },
    {
      "cell_type": "code",
      "execution_count": null,
      "metadata": {
        "id": "rUTTb8LgGmR-"
      },
      "outputs": [],
      "source": [
        "import numpy as np\n",
        "import tensorflow as tf\n",
        "from tensorflow.keras.datasets.mnist import load_data\n",
        "from tensorflow.keras.optimizers import Adam\n",
        "from tensorflow.keras.models import load_model, Sequential\n",
        "from tensorflow.keras.layers import Dense\n",
        "from tensorflow.keras.layers import Reshape\n",
        "from tensorflow.keras.layers import Flatten\n",
        "from tensorflow.keras.layers import Conv2D\n",
        "from tensorflow.keras.layers import Conv2DTranspose\n",
        "from tensorflow.keras.layers import LeakyReLU\n",
        "from tensorflow.keras.layers import Dropout\n",
        "from matplotlib import pyplot as plt"
      ]
    },
    {
      "cell_type": "code",
      "execution_count": null,
      "metadata": {
        "id": "qHBbkW9gGmSB"
      },
      "outputs": [],
      "source": [
        "import os\n",
        "import cv2\n",
        "\n",
        "image_size = 96\n",
        "\n",
        "def get_data(df):\n",
        "    data = list()\n",
        "    y = list()\n",
        "\n",
        "    for index, row in df.iterrows():\n",
        "        img_arr = cv2.imread(row['img_path'], cv2.IMREAD_GRAYSCALE)\n",
        "        resized_array = cv2.resize(img_arr, (image_size, image_size))\n",
        "        data.append(resized_array)\n",
        "        y.append(0 if index < 6000 else 1)\n",
        "    return np.expand_dims(np.array(data), 3), np.array(y)"
      ]
    },
    {
      "cell_type": "code",
      "execution_count": null,
      "metadata": {
        "id": "bsW23yuPGmSC",
        "outputId": "36a90212-0954-4bfb-f625-b1ca68d740f5"
      },
      "outputs": [
        {
          "name": "stdout",
          "output_type": "stream",
          "text": [
            "Total number of Train image 55270\n"
          ]
        }
      ],
      "source": [
        "import pandas as pd\n",
        "\n",
        "df = pd.read_csv('finger_alt.csv')\n",
        "trainX, trainY = get_data(df)\n",
        "print(\"Total number of Train image\", len(trainX))"
      ]
    },
    {
      "cell_type": "code",
      "execution_count": null,
      "metadata": {
        "id": "8Ik0v4F5GmSD"
      },
      "outputs": [],
      "source": [
        "trainX = trainX / 255\n",
        "# trainY = trainY - 1"
      ]
    },
    {
      "cell_type": "code",
      "execution_count": null,
      "metadata": {
        "id": "7y4nX3m2GmSD"
      },
      "outputs": [],
      "source": [
        "from sklearn.model_selection import train_test_split\n",
        "\n",
        "X_train, X_test, y_train, y_test = train_test_split(trainX, trainY, test_size=.1, random_state=seed, stratify=trainY)"
      ]
    },
    {
      "cell_type": "code",
      "execution_count": null,
      "metadata": {
        "id": "CTBtNphtGmSE",
        "outputId": "7f58082e-84c4-4dcc-e053-cfb94f424634"
      },
      "outputs": [
        {
          "name": "stderr",
          "output_type": "stream",
          "text": [
            "2023-01-08 12:32:37.504652: I tensorflow/core/platform/cpu_feature_guard.cc:194] This TensorFlow binary is optimized with oneAPI Deep Neural Network Library (oneDNN) to use the following CPU instructions in performance-critical operations:  SSE3 SSE4.1 SSE4.2 AVX\n",
            "To enable them in other operations, rebuild TensorFlow with the appropriate compiler flags.\n",
            "2023-01-08 12:32:37.505171: I tensorflow/stream_executor/cuda/cuda_gpu_executor.cc:996] successful NUMA node read from SysFS had negative value (-1), but there must be at least one NUMA node, so returning NUMA node zero\n",
            "2023-01-08 12:32:37.505353: I tensorflow/stream_executor/cuda/cuda_gpu_executor.cc:996] successful NUMA node read from SysFS had negative value (-1), but there must be at least one NUMA node, so returning NUMA node zero\n",
            "2023-01-08 12:32:37.505491: I tensorflow/stream_executor/cuda/cuda_gpu_executor.cc:996] successful NUMA node read from SysFS had negative value (-1), but there must be at least one NUMA node, so returning NUMA node zero\n",
            "2023-01-08 12:32:38.277647: I tensorflow/stream_executor/cuda/cuda_gpu_executor.cc:996] successful NUMA node read from SysFS had negative value (-1), but there must be at least one NUMA node, so returning NUMA node zero\n",
            "2023-01-08 12:32:38.278195: I tensorflow/stream_executor/cuda/cuda_gpu_executor.cc:996] successful NUMA node read from SysFS had negative value (-1), but there must be at least one NUMA node, so returning NUMA node zero\n",
            "2023-01-08 12:32:38.278344: I tensorflow/stream_executor/cuda/cuda_gpu_executor.cc:996] successful NUMA node read from SysFS had negative value (-1), but there must be at least one NUMA node, so returning NUMA node zero\n",
            "2023-01-08 12:32:38.278465: I tensorflow/core/common_runtime/gpu/gpu_device.cc:1637] Created device /job:localhost/replica:0/task:0/device:GPU:0 with 7052 MB memory:  -> device: 0, name: NVIDIA GeForce RTX 3080, pci bus id: 0000:27:00.0, compute capability: 8.6\n"
          ]
        },
        {
          "name": "stdout",
          "output_type": "stream",
          "text": [
            "Downloading data from https://storage.googleapis.com/tensorflow/keras-applications/efficientnet_v2/efficientnetv2-s_notop.h5\n",
            "82420632/82420632 [==============================] - 26s 0us/step\n"
          ]
        }
      ],
      "source": [
        "from tensorflow.keras.applications.efficientnet_v2 import EfficientNetV2S\n",
        "from tensorflow.keras.layers import Input, Concatenate\n",
        "\n",
        "img_input = Input(shape=(image_size, image_size, 1))\n",
        "img_conc = Concatenate()([img_input, img_input, img_input])\n",
        "model = EfficientNetV2S(input_tensor=img_conc, include_top=False, weights='imagenet')\n",
        "\n",
        "model_name = 'EfficientNetV2S'"
      ]
    },
    {
      "cell_type": "code",
      "execution_count": null,
      "metadata": {
        "id": "G8-ryMplGmSE"
      },
      "outputs": [],
      "source": [
        "from tensorflow.keras.models import Model\n",
        "from tensorflow.keras.layers import Flatten, Dense, Dropout\n",
        "headModel = model.output\n",
        "headModel = Flatten()(headModel)\n",
        "headModel = Dense(1, activation=\"sigmoid\")(headModel)\n",
        "model = Model(inputs=model.input, outputs=headModel)"
      ]
    },
    {
      "cell_type": "code",
      "execution_count": null,
      "metadata": {
        "id": "SbJfpOHDGmSF"
      },
      "outputs": [],
      "source": [
        "from tensorflow.keras.optimizers import Adam\n",
        "\n",
        "optimizer = Adam(learning_rate=1e-5)\n",
        "loss = 'binary_crossentropy'\n",
        "metrics = ['accuracy', 'Precision', 'Recall']\n",
        "model.compile(optimizer=optimizer, loss=loss, metrics=metrics)"
      ]
    },
    {
      "cell_type": "code",
      "execution_count": null,
      "metadata": {
        "id": "6HROSWaTGmSF",
        "outputId": "54e464d5-1a90-4318-df19-5f9a032b7b59"
      },
      "outputs": [
        {
          "name": "stderr",
          "output_type": "stream",
          "text": [
            "2023-01-08 12:33:10.240303: W tensorflow/core/framework/cpu_allocator_impl.cc:82] Allocation of 1466966016 exceeds 10% of free system memory.\n",
            "2023-01-08 12:33:10.950044: W tensorflow/core/framework/cpu_allocator_impl.cc:82] Allocation of 1466966016 exceeds 10% of free system memory.\n"
          ]
        },
        {
          "name": "stdout",
          "output_type": "stream",
          "text": [
            "Epoch 1/100\n"
          ]
        },
        {
          "name": "stderr",
          "output_type": "stream",
          "text": [
            "2023-01-08 12:33:29.597840: I tensorflow/stream_executor/cuda/cuda_dnn.cc:424] Loaded cuDNN version 8600\n",
            "2023-01-08 12:33:31.071360: I tensorflow/stream_executor/cuda/cuda_blas.cc:1633] TensorFloat-32 will be used for the matrix multiplication. This will only be logged once.\n"
          ]
        },
        {
          "name": "stdout",
          "output_type": "stream",
          "text": [
            "1244/1244 [==============================] - 117s 78ms/step - loss: 0.2522 - accuracy: 0.8969 - precision: 0.9129 - recall: 0.9776 - val_loss: 0.1885 - val_accuracy: 0.9164 - val_precision: 0.9392 - val_recall: 0.9689\n",
            "Epoch 2/100\n",
            "1244/1244 [==============================] - 94s 75ms/step - loss: 0.1737 - accuracy: 0.9235 - precision: 0.9447 - recall: 0.9710 - val_loss: 0.1471 - val_accuracy: 0.9328 - val_precision: 0.9586 - val_recall: 0.9663\n",
            "Epoch 3/100\n",
            "1244/1244 [==============================] - 95s 76ms/step - loss: 0.1363 - accuracy: 0.9393 - precision: 0.9602 - recall: 0.9723 - val_loss: 0.1172 - val_accuracy: 0.9497 - val_precision: 0.9698 - val_recall: 0.9739\n",
            "Epoch 4/100\n",
            "1244/1244 [==============================] - 95s 77ms/step - loss: 0.1057 - accuracy: 0.9553 - precision: 0.9720 - recall: 0.9780 - val_loss: 0.0939 - val_accuracy: 0.9594 - val_precision: 0.9816 - val_recall: 0.9727\n",
            "Epoch 5/100\n",
            "1244/1244 [==============================] - 95s 77ms/step - loss: 0.0811 - accuracy: 0.9663 - precision: 0.9800 - recall: 0.9823 - val_loss: 0.0795 - val_accuracy: 0.9661 - val_precision: 0.9858 - val_recall: 0.9761\n",
            "Epoch 6/100\n",
            "1244/1244 [==============================] - 95s 76ms/step - loss: 0.0625 - accuracy: 0.9748 - precision: 0.9855 - recall: 0.9862 - val_loss: 0.0676 - val_accuracy: 0.9725 - val_precision: 0.9794 - val_recall: 0.9900\n",
            "Epoch 7/100\n",
            "1244/1244 [==============================] - 95s 77ms/step - loss: 0.0483 - accuracy: 0.9813 - precision: 0.9898 - recall: 0.9892 - val_loss: 0.0588 - val_accuracy: 0.9752 - val_precision: 0.9884 - val_recall: 0.9836\n",
            "Epoch 8/100\n",
            "1244/1244 [==============================] - 95s 77ms/step - loss: 0.0396 - accuracy: 0.9841 - precision: 0.9914 - recall: 0.9908 - val_loss: 0.0573 - val_accuracy: 0.9788 - val_precision: 0.9904 - val_recall: 0.9858\n",
            "Epoch 9/100\n",
            "1244/1244 [==============================] - 92s 74ms/step - loss: 0.0309 - accuracy: 0.9887 - precision: 0.9939 - recall: 0.9934 - val_loss: 0.0559 - val_accuracy: 0.9784 - val_precision: 0.9843 - val_recall: 0.9915\n",
            "Epoch 10/100\n",
            "1244/1244 [==============================] - 95s 76ms/step - loss: 0.0262 - accuracy: 0.9899 - precision: 0.9943 - recall: 0.9944 - val_loss: 0.0522 - val_accuracy: 0.9810 - val_precision: 0.9903 - val_recall: 0.9884\n",
            "Epoch 11/100\n",
            "1244/1244 [==============================] - 95s 76ms/step - loss: 0.0227 - accuracy: 0.9916 - precision: 0.9955 - recall: 0.9951 - val_loss: 0.0563 - val_accuracy: 0.9823 - val_precision: 0.9939 - val_recall: 0.9862\n",
            "Epoch 12/100\n",
            "1244/1244 [==============================] - 93s 75ms/step - loss: 0.0178 - accuracy: 0.9929 - precision: 0.9962 - recall: 0.9959 - val_loss: 0.0536 - val_accuracy: 0.9823 - val_precision: 0.9903 - val_recall: 0.9898\n",
            "Epoch 13/100\n",
            "1244/1244 [==============================] - 96s 77ms/step - loss: 0.0162 - accuracy: 0.9936 - precision: 0.9965 - recall: 0.9963 - val_loss: 0.0523 - val_accuracy: 0.9834 - val_precision: 0.9915 - val_recall: 0.9898\n",
            "Epoch 14/100\n",
            "1244/1244 [==============================] - 92s 74ms/step - loss: 0.0132 - accuracy: 0.9948 - precision: 0.9971 - recall: 0.9971 - val_loss: 0.0582 - val_accuracy: 0.9811 - val_precision: 0.9874 - val_recall: 0.9914\n",
            "Epoch 15/100\n",
            "1244/1244 [==============================] - 92s 74ms/step - loss: 0.0116 - accuracy: 0.9958 - precision: 0.9976 - recall: 0.9977 - val_loss: 0.0598 - val_accuracy: 0.9834 - val_precision: 0.9925 - val_recall: 0.9888\n",
            "Epoch 16/100\n",
            "1244/1244 [==============================] - 95s 77ms/step - loss: 0.0110 - accuracy: 0.9961 - precision: 0.9977 - recall: 0.9979 - val_loss: 0.0544 - val_accuracy: 0.9848 - val_precision: 0.9919 - val_recall: 0.9911\n",
            "Epoch 17/100\n",
            "1244/1244 [==============================] - 92s 74ms/step - loss: 0.0107 - accuracy: 0.9963 - precision: 0.9977 - recall: 0.9981 - val_loss: 0.0547 - val_accuracy: 0.9843 - val_precision: 0.9911 - val_recall: 0.9913\n",
            "Epoch 18/100\n",
            "1244/1244 [==============================] - 92s 74ms/step - loss: 0.0101 - accuracy: 0.9964 - precision: 0.9979 - recall: 0.9980 - val_loss: 0.0515 - val_accuracy: 0.9848 - val_precision: 0.9921 - val_recall: 0.9909\n",
            "Epoch 19/100\n",
            "1244/1244 [==============================] - 96s 77ms/step - loss: 0.0092 - accuracy: 0.9964 - precision: 0.9980 - recall: 0.9979 - val_loss: 0.0499 - val_accuracy: 0.9860 - val_precision: 0.9940 - val_recall: 0.9903\n",
            "Epoch 20/100\n",
            "1244/1244 [==============================] - 92s 74ms/step - loss: 0.0077 - accuracy: 0.9973 - precision: 0.9984 - recall: 0.9986 - val_loss: 0.0579 - val_accuracy: 0.9854 - val_precision: 0.9948 - val_recall: 0.9888\n",
            "Epoch 21/100\n",
            "1244/1244 [==============================] - 93s 75ms/step - loss: 0.0077 - accuracy: 0.9966 - precision: 0.9981 - recall: 0.9981 - val_loss: 0.0622 - val_accuracy: 0.9854 - val_precision: 0.9931 - val_recall: 0.9905\n",
            "Epoch 22/100\n",
            "1244/1244 [==============================] - 92s 74ms/step - loss: 0.0065 - accuracy: 0.9976 - precision: 0.9985 - recall: 0.9988 - val_loss: 0.0610 - val_accuracy: 0.9859 - val_precision: 0.9932 - val_recall: 0.9910\n",
            "Epoch 23/100\n",
            "1244/1244 [==============================] - 92s 74ms/step - loss: 0.0056 - accuracy: 0.9975 - precision: 0.9985 - recall: 0.9987 - val_loss: 0.0624 - val_accuracy: 0.9858 - val_precision: 0.9919 - val_recall: 0.9922\n",
            "Epoch 24/100\n",
            "1244/1244 [==============================] - 93s 75ms/step - loss: 0.0065 - accuracy: 0.9976 - precision: 0.9984 - recall: 0.9988 - val_loss: 0.0687 - val_accuracy: 0.9852 - val_precision: 0.9911 - val_recall: 0.9923\n",
            "CPU times: user 41min 41s, sys: 1min 1s, total: 42min 43s\n",
            "Wall time: 37min 58s\n"
          ]
        }
      ],
      "source": [
        "%%time\n",
        "from tensorflow.keras.callbacks import EarlyStopping, ModelCheckpoint\n",
        "\n",
        "epochs = 100\n",
        "\n",
        "callbacks = [\n",
        "    EarlyStopping(patience=5, monitor='val_accuracy')\n",
        "]\n",
        "history = model.fit(x=X_train, y=y_train, batch_size=32, epochs=epochs, validation_split=.2, callbacks=callbacks)"
      ]
    },
    {
      "cell_type": "code",
      "execution_count": null,
      "metadata": {
        "id": "zUCEyPqrGmSG",
        "outputId": "ef2b6ee8-3d62-4d52-9ea7-0412823fe05a"
      },
      "outputs": [
        {
          "name": "stdout",
          "output_type": "stream",
          "text": [
            "173/173 [==============================] - 5s 16ms/step - loss: 0.0722 - accuracy: 0.9814 - precision: 0.9914 - recall: 0.9876\n"
          ]
        }
      ],
      "source": [
        "model.evaluate(X_test, y_test);"
      ]
    },
    {
      "cell_type": "code",
      "execution_count": null,
      "metadata": {
        "id": "ybb8efeYGmSG",
        "outputId": "45615752-ff8d-4a49-c7a9-f9ecccb125ba"
      },
      "outputs": [
        {
          "name": "stdout",
          "output_type": "stream",
          "text": [
            "173/173 [==============================] - 5s 14ms/step\n"
          ]
        }
      ],
      "source": [
        "y_true = y_test.ravel()\n",
        "y_pred = model.predict(X_test).round().ravel()\n",
        "# y_pred = np.argmax(y_pred)"
      ]
    },
    {
      "cell_type": "code",
      "execution_count": null,
      "metadata": {
        "id": "jnD1k8tfGmSG",
        "outputId": "83b59207-0588-4018-91e8-171c253f448f"
      },
      "outputs": [
        {
          "name": "stdout",
          "output_type": "stream",
          "text": [
            "              precision    recall  f1-score   support\n",
            "\n",
            "           0     0.9015    0.9300    0.9155       600\n",
            "           1     0.9914    0.9876    0.9895      4927\n",
            "\n",
            "    accuracy                         0.9814      5527\n",
            "   macro avg     0.9464    0.9588    0.9525      5527\n",
            "weighted avg     0.9817    0.9814    0.9815      5527\n",
            "\n"
          ]
        }
      ],
      "source": [
        "from sklearn.metrics import classification_report\n",
        "print(classification_report(y_true,y_pred, digits=4))"
      ]
    },
    {
      "cell_type": "code",
      "execution_count": null,
      "metadata": {
        "id": "E_nAuqfmGmSH"
      },
      "outputs": [],
      "source": [
        "history = history.history"
      ]
    },
    {
      "cell_type": "code",
      "execution_count": null,
      "metadata": {
        "id": "ZSzDaoX0GmSH"
      },
      "outputs": [],
      "source": [
        "import seaborn as sns\n",
        "sns.set(font_scale=1)\n",
        "plt.style.use('seaborn-whitegrid')\n",
        "n = len(history['loss'])\n",
        "plt.plot(range(1, n+1), history['loss'], linewidth=2)\n",
        "plt.plot(range(1, n+1), history['val_loss'], linewidth=2)\n",
        "plt.xticks(range(1, n+1, 3))\n",
        "plt.title(f'{model_name} loss')\n",
        "plt.ylabel('loss')\n",
        "plt.xlabel('epoch')\n",
        "plt.legend(['train', 'test'], loc='upper right')\n",
        "plt.savefig(f'plots/loss_alteration_{model_name}.png', dpi=200, bbox_inches='tight')"
      ]
    },
    {
      "cell_type": "code",
      "execution_count": null,
      "metadata": {
        "id": "VaQug3RuGmSH",
        "outputId": "101e3b3e-b1a4-425e-ffc4-fe384720d562"
      },
      "outputs": [
        {
          "data": {
            "image/png": "[encoded data removed]",
            "text/plain": [
              "<Figure size 640x480 with 1 Axes>"
            ]
          },
          "metadata": {},
          "output_type": "display_data"
        }
      ],
      "source": [
        "sns.set(font_scale=1)\n",
        "r = lambda x: round(x*100)\n",
        "plt.style.use('seaborn-whitegrid')\n",
        "n = len(history['loss'])\n",
        "plt.plot(range(1, n+1), [r(x) for x in history['accuracy']], linewidth=2)\n",
        "plt.plot(range(1, n+1), [r(x) for x in history['val_accuracy']], linewidth=2)\n",
        "plt.xticks(range(1, n+1, 3))\n",
        "plt.title(f'{model_name} accuracy')\n",
        "plt.ylabel('accuracy (%)')\n",
        "plt.xlabel('epoch')\n",
        "plt.legend(['train', 'test'], loc='lower right')\n",
        "plt.savefig(f'plots/accuracy_alteration_{model_name}.png', dpi=200, bbox_inches='tight')"
      ]
    }
  ],
  "metadata": {
    "kernelspec": {
      "display_name": "Python 3 (ipykernel)",
      "language": "python",
      "name": "python3"
    },
    "language_info": {
      "codemirror_mode": {
        "name": "ipython",
        "version": 3
      },
      "file_extension": ".py",
      "mimetype": "text/x-python",
      "name": "python",
      "nbconvert_exporter": "python",
      "pygments_lexer": "ipython3",
      "version": "3.8.10"
    },
    "orig_nbformat": 4,
    "vscode": {
      "interpreter": {
        "hash": "916dbcbb3f70747c44a77c7bcd40155683ae19c65e1c03b4aa3499c5328201f1"
      }
    },
    "colab": {
      "provenance": [],
      "include_colab_link": true
    }
  },
  "nbformat": 4,
  "nbformat_minor": 0
}